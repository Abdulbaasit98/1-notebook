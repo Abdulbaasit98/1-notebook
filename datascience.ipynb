{
  "metadata": {
    "language_info": {
      "codemirror_mode": {
        "name": "python",
        "version": 3
      },
      "file_extension": ".py",
      "mimetype": "text/x-python",
      "name": "python",
      "nbconvert_exporter": "python",
      "pygments_lexer": "ipython3",
      "version": "3.8"
    },
    "kernelspec": {
      "name": "python",
      "display_name": "Python (Pyodide)",
      "language": "python"
    }
  },
  "nbformat_minor": 4,
  "nbformat": 4,
  "cells": [
    {
      "cell_type": "markdown",
      "source": "datascience",
      "metadata": {}
    },
    {
      "cell_type": "markdown",
      "source": "introduction: we will talk about data science",
      "metadata": {}
    },
    {
      "cell_type": "markdown",
      "source": "objectives: Pyhton, R, Jupyter notebook, Pandas and Skala Labraries, SQL. ",
      "metadata": {}
    },
    {
      "cell_type": "markdown",
      "source": "some of the popular data science languages are:\n    1. Python\n    2. R\n    3. SQL",
      "metadata": {}
    },
    {
      "cell_type": "markdown",
      "source": "some of the popular libraries in data science:\n    1. Pandas\n    2. Numpy\n    3. Skala\n    ",
      "metadata": {}
    },
    {
      "cell_type": "markdown",
      "source": "data science tools:\n    1. Jupyter\n    2. TensorFlow\n    3. Matlab ",
      "metadata": {
        "tags": []
      }
    },
    {
      "cell_type": "markdown",
      "source": "arithmetic expression examples:\n2+2=4\n2*3=6\n4-2=2\n4/2=2",
      "metadata": {}
    },
    {
      "cell_type": "code",
      "source": "(2*2)+4",
      "metadata": {
        "trusted": true
      },
      "execution_count": 1,
      "outputs": [
        {
          "execution_count": 1,
          "output_type": "execute_result",
          "data": {
            "text/plain": "8"
          },
          "metadata": {}
        }
      ]
    },
    {
      "cell_type": "code",
      "source": "#Converting hours to minutes 240 minutes into hours by deviding 60.\n240/60",
      "metadata": {
        "trusted": true
      },
      "execution_count": 3,
      "outputs": [
        {
          "execution_count": 3,
          "output_type": "execute_result",
          "data": {
            "text/plain": "4.0"
          },
          "metadata": {}
        }
      ]
    },
    {
      "cell_type": "markdown",
      "source": "Author: Abdulbosit",
      "metadata": {}
    }
  ]
}